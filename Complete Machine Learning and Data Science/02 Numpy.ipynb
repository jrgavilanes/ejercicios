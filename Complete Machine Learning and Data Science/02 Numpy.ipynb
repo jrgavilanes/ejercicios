{
 "cells": [
  {
   "attachments": {},
   "cell_type": "markdown",
   "metadata": {},
   "source": [
    "\n",
    "# Vamos a replicar esta tabla de excel con pandas y numpy\n",
    "\n",
    "\n",
    "![](https://github.com/jrgavilanes/ejercicios/raw/master/Complete%20Machine%20Learning%20and%20Data%20Science/numpy1.png)\n"
   ]
  },
  {
   "cell_type": "code",
   "execution_count": 87,
   "metadata": {},
   "outputs": [
    {
     "name": "stdout",
     "output_type": "stream",
     "text": [
      "[ 31  50  66 745 101  24  67]\n"
     ]
    }
   ],
   "source": [
    "import numpy as np\n",
    "unidades_semana=np.array([   [1,4,1],\n",
    "                              [4,5,2],\n",
    "                              [6,6,3],\n",
    "                              [87,78,4],\n",
    "                              [9,9,5],\n",
    "                              [0,0,6],\n",
    "                              [3,5,7]\n",
    "                         ])\n",
    "\n",
    "\n",
    "\n",
    "precio_producto = np.array([3,6,4])\n",
    "\n",
    "# Para esto servía la multiplicación de matrices ;-)\n",
    "dinero_ventas = unidades_semana.dot(precio_producto)\n",
    "\n",
    "print(dinero_ventas)\n"
   ]
  },
  {
   "cell_type": "code",
   "execution_count": 89,
   "metadata": {},
   "outputs": [
    {
     "data": {
      "text/html": [
       "<div>\n",
       "<style scoped>\n",
       "    .dataframe tbody tr th:only-of-type {\n",
       "        vertical-align: middle;\n",
       "    }\n",
       "\n",
       "    .dataframe tbody tr th {\n",
       "        vertical-align: top;\n",
       "    }\n",
       "\n",
       "    .dataframe thead th {\n",
       "        text-align: right;\n",
       "    }\n",
       "</style>\n",
       "<table border=\"1\" class=\"dataframe\">\n",
       "  <thead>\n",
       "    <tr style=\"text-align: right;\">\n",
       "      <th></th>\n",
       "      <th>producto1</th>\n",
       "      <th>producto2</th>\n",
       "      <th>producto3</th>\n",
       "      <th>Ventas €</th>\n",
       "    </tr>\n",
       "  </thead>\n",
       "  <tbody>\n",
       "    <tr>\n",
       "      <th>lunes</th>\n",
       "      <td>1</td>\n",
       "      <td>4</td>\n",
       "      <td>1</td>\n",
       "      <td>31</td>\n",
       "    </tr>\n",
       "    <tr>\n",
       "      <th>martes</th>\n",
       "      <td>4</td>\n",
       "      <td>5</td>\n",
       "      <td>2</td>\n",
       "      <td>50</td>\n",
       "    </tr>\n",
       "    <tr>\n",
       "      <th>miercoles</th>\n",
       "      <td>6</td>\n",
       "      <td>6</td>\n",
       "      <td>3</td>\n",
       "      <td>66</td>\n",
       "    </tr>\n",
       "    <tr>\n",
       "      <th>jueves</th>\n",
       "      <td>87</td>\n",
       "      <td>78</td>\n",
       "      <td>4</td>\n",
       "      <td>745</td>\n",
       "    </tr>\n",
       "    <tr>\n",
       "      <th>viernes</th>\n",
       "      <td>9</td>\n",
       "      <td>9</td>\n",
       "      <td>5</td>\n",
       "      <td>101</td>\n",
       "    </tr>\n",
       "    <tr>\n",
       "      <th>sabado</th>\n",
       "      <td>0</td>\n",
       "      <td>0</td>\n",
       "      <td>6</td>\n",
       "      <td>24</td>\n",
       "    </tr>\n",
       "    <tr>\n",
       "      <th>domingo</th>\n",
       "      <td>3</td>\n",
       "      <td>5</td>\n",
       "      <td>7</td>\n",
       "      <td>67</td>\n",
       "    </tr>\n",
       "  </tbody>\n",
       "</table>\n",
       "</div>"
      ],
      "text/plain": [
       "           producto1  producto2  producto3  Ventas €\n",
       "lunes              1          4          1        31\n",
       "martes             4          5          2        50\n",
       "miercoles          6          6          3        66\n",
       "jueves            87         78          4       745\n",
       "viernes            9          9          5       101\n",
       "sabado             0          0          6        24\n",
       "domingo            3          5          7        67"
      ]
     },
     "execution_count": 89,
     "metadata": {},
     "output_type": "execute_result"
    }
   ],
   "source": [
    "import pandas as pd\n",
    "\n",
    "mi_excel=pd.DataFrame(unidades_semana, \n",
    "                     index=[\"lunes\", \"martes\", \"miercoles\", \"jueves\", \"viernes\", \"sabado\", \"domingo\"],\n",
    "                     columns=[\"producto1\", \"producto2\", \"producto3\"])\n",
    "\n",
    "# mi_excel[\"Ventas €\"] = dinero_ventas.reshape((7,1))\n",
    "mi_excel[\"Ventas €\"] = dinero_ventas.T\n",
    "\n",
    "# total_tipo_producto = unidades_semana.sum(axis=0)\n",
    "# total_dia_semana = unidades_semana.sum(axis=1)\n",
    "# unidades_producto_totales = pd.DataFrame(total_tipo_producto)\n",
    "\n",
    "mi_excel\n"
   ]
  },
  {
   "cell_type": "code",
   "execution_count": 85,
   "metadata": {},
   "outputs": [
    {
     "data": {
      "text/plain": [
       "producto1     110\n",
       "producto2     107\n",
       "producto3      28\n",
       "Ventas €     1084\n",
       "dtype: int64"
      ]
     },
     "execution_count": 85,
     "metadata": {},
     "output_type": "execute_result"
    }
   ],
   "source": [
    "# Totales\n",
    "\n",
    "mi_excel.sum(axis=0)"
   ]
  }
 ],
 "metadata": {
  "kernelspec": {
   "display_name": "Python 3",
   "language": "python",
   "name": "python3"
  },
  "language_info": {
   "codemirror_mode": {
    "name": "ipython",
    "version": 3
   },
   "file_extension": ".py",
   "mimetype": "text/x-python",
   "name": "python",
   "nbconvert_exporter": "python",
   "pygments_lexer": "ipython3",
   "version": "3.7.6"
  }
 },
 "nbformat": 4,
 "nbformat_minor": 4
}
